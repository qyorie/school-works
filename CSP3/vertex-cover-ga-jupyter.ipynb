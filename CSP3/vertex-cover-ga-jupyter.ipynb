{
 "cells": [
  {
   "cell_type": "code",
   "execution_count": 1,
   "metadata": {},
   "outputs": [],
   "source": [
    "import networkx as nx\n",
    "import random as rand\n",
    "import matplotlib.pyplot as plt"
   ]
  },
  {
   "cell_type": "code",
   "execution_count": 2,
   "metadata": {},
   "outputs": [],
   "source": [
    "POPULATION_SIZE = 10\n",
    "MUTATION_RATE = 0.4"
   ]
  },
  {
   "cell_type": "code",
   "execution_count": 3,
   "metadata": {},
   "outputs": [],
   "source": [
    "def generate_graph(num_nodes, num_edges):\n",
    "    return nx.gnm_random_graph(num_nodes, num_edges)"
   ]
  },
  {
   "cell_type": "code",
   "execution_count": 11,
   "metadata": {},
   "outputs": [],
   "source": [
    "def generate_initial_population(graph):\n",
    "    poplutation = []\n",
    "    for _ in range(POPULATION_SIZE):\n",
    "        poplutation.append([rand.choice([0,1]) for _ in range(graph.number_of_nodes())])\n",
    "\n",
    "    return poplutation"
   ]
  },
  {
   "cell_type": "code",
   "execution_count": 32,
   "metadata": {},
   "outputs": [],
   "source": [
    "def mutation(parent):\n",
    "    child = []\n",
    "    for i in range(len(parent)):\n",
    "        if rand.uniform(0.0, 1.0) < MUTATION_RATE:\n",
    "            child.append(1)\n",
    "        else:\n",
    "            child.append(parent[i])\n",
    "\n",
    "    return child"
   ]
  },
  {
   "cell_type": "code",
   "execution_count": 33,
   "metadata": {},
   "outputs": [],
   "source": [
    "def single_crossover(parent1, parent2):\n",
    "    point = int(len(parent1)/2)\n",
    "    child1 = parent1[:point] + parent2[point:]\n",
    "    child2 = parent1[point:] + parent2[:point]\n",
    "\n",
    "    return child1, child2"
   ]
  },
  {
   "cell_type": "code",
   "execution_count": 168,
   "metadata": {},
   "outputs": [],
   "source": [
    "def print_layout(graph, sol):\n",
    "    \"\"\"Displays graph layout with selected nodes colored in red\"\"\"\n",
    "    n_list = []\n",
    "    pos = nx.random_layout(graph)\n",
    "\n",
    "    for i in range(len(sol)):\n",
    "        if sol[i] == 1:\n",
    "            n_list.append(i)\n",
    "    \n",
    "    nx.draw(graph, pos, with_labels=True)\n",
    "    nx.draw_networkx_nodes(graph, pos, nodelist=n_list, node_color=\"tab:red\")\n",
    "    plt.show()"
   ]
  },
  {
   "cell_type": "code",
   "execution_count": null,
   "metadata": {},
   "outputs": [],
   "source": [
    "def is_valid_cover(graph, sol):\n",
    "    \"\"\"returns true if selected nodes covered ALL edges otherwise return false\"\"\"\n",
    "    for u, v in graph.edges:\n",
    "        if sol[u] == 0 and sol[v] == 0:\n",
    "            return False\n",
    "    return True"
   ]
  },
  {
   "cell_type": "code",
   "execution_count": null,
   "metadata": {},
   "outputs": [
    {
     "data": {
      "text/plain": [
       "NodeView((0, 1, 2, 3, 4))"
      ]
     },
     "execution_count": 170,
     "metadata": {},
     "output_type": "execute_result"
    }
   ],
   "source": []
  },
  {
   "cell_type": "code",
   "execution_count": null,
   "metadata": {},
   "outputs": [
    {
     "data": {
      "text/plain": [
       "[0, 0, 1, 0, 0]"
      ]
     },
     "execution_count": 132,
     "metadata": {},
     "output_type": "execute_result"
    }
   ],
   "source": []
  },
  {
   "cell_type": "code",
   "execution_count": null,
   "metadata": {},
   "outputs": [],
   "source": []
  },
  {
   "cell_type": "code",
   "execution_count": null,
   "metadata": {},
   "outputs": [],
   "source": []
  }
 ],
 "metadata": {
  "kernelspec": {
   "display_name": "Python 3",
   "language": "python",
   "name": "python3"
  },
  "language_info": {
   "codemirror_mode": {
    "name": "ipython",
    "version": 3
   },
   "file_extension": ".py",
   "mimetype": "text/x-python",
   "name": "python",
   "nbconvert_exporter": "python",
   "pygments_lexer": "ipython3",
   "version": "3.13.2"
  }
 },
 "nbformat": 4,
 "nbformat_minor": 2
}
